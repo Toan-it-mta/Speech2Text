{
 "cells": [
  {
   "cell_type": "code",
   "execution_count": 2,
   "metadata": {},
   "outputs": [],
   "source": [
    "#Read *.pkl\n",
    "import pickle\n",
    "\n",
    "def read_file_pkl(pkl_file_path):\n",
    "    with open(pkl_file_path,'rb') as f:\n",
    "        data = pickle.load(f)\n",
    "    return data"
   ]
  },
  {
   "cell_type": "code",
   "execution_count": 13,
   "metadata": {},
   "outputs": [],
   "source": [
    "data = read_file_pkl(\"/mnt/wsl/PHYSICALDRIVE0p1/toan/data_speech_to_text/Datasets/PublicDataset/VIVOS.pkl\")"
   ]
  },
  {
   "cell_type": "code",
   "execution_count": 14,
   "metadata": {},
   "outputs": [
    {
     "data": {
      "text/plain": [
       "{'path': '/mnt/wsl/PHYSICALDRIVE0p1/toan/data_speech_to_text/Public dataset/vivos/data/vivos/test/waves/VIVOSDEV01/VIVOSDEV01_R002.wav',\n",
       " 'array': array([0.0000000e+00, 3.0517578e-05, 0.0000000e+00, ..., 4.8522949e-03,\n",
       "        4.3334961e-03, 4.6081543e-03], dtype=float32),\n",
       " 'sentence': 'TIẾNG CỌC CẠCH KHỰNG LẠI CỦA NHỮNG KHỚP SẮT',\n",
       " 'time': 4.0625,\n",
       " 'api_sentence': ' Tiến cọc cạch, khẩn lại có những góp sắc',\n",
       " 'compare': False}"
      ]
     },
     "execution_count": 14,
     "metadata": {},
     "output_type": "execute_result"
    }
   ],
   "source": [
    "data[0]"
   ]
  },
  {
   "cell_type": "code",
   "execution_count": 15,
   "metadata": {},
   "outputs": [],
   "source": [
    "import os\n",
    "# for root, folders, files in os.walk(\"Datasets/pkls_done\"):\n",
    "#     for file in files:\n",
    "#         data = read_file_pkl(os.path.join(root,file))\n",
    "for record in data:\n",
    "    path = record['path']\n",
    "    args = path.split(os.path.sep)\n",
    "    new_path = os.path.sep.join(args[7:])\n",
    "    record['path'] = os.path.join(\"Datasets\",new_path)\n",
    "        # with open(os.path.join(root,file), 'wb') as f:\n",
    "        #     pickle.dump(data, f)"
   ]
  },
  {
   "cell_type": "code",
   "execution_count": 16,
   "metadata": {},
   "outputs": [
    {
     "data": {
      "text/plain": [
       "{'path': 'Datasets/vivos/data/vivos/test/waves/VIVOSDEV01/VIVOSDEV01_R002.wav',\n",
       " 'array': array([0.0000000e+00, 3.0517578e-05, 0.0000000e+00, ..., 4.8522949e-03,\n",
       "        4.3334961e-03, 4.6081543e-03], dtype=float32),\n",
       " 'sentence': 'TIẾNG CỌC CẠCH KHỰNG LẠI CỦA NHỮNG KHỚP SẮT',\n",
       " 'time': 4.0625,\n",
       " 'api_sentence': ' Tiến cọc cạch, khẩn lại có những góp sắc',\n",
       " 'compare': False}"
      ]
     },
     "execution_count": 16,
     "metadata": {},
     "output_type": "execute_result"
    }
   ],
   "source": [
    "data[0]"
   ]
  },
  {
   "cell_type": "code",
   "execution_count": 12,
   "metadata": {},
   "outputs": [],
   "source": [
    "import pickle\n",
    "with open('Datasets/PublicDataset/VIVOS.pkl', 'wb') as f:\n",
    "    pickle.dump(data, f)"
   ]
  }
 ],
 "metadata": {
  "kernelspec": {
   "display_name": "base",
   "language": "python",
   "name": "python3"
  },
  "language_info": {
   "codemirror_mode": {
    "name": "ipython",
    "version": 3
   },
   "file_extension": ".py",
   "mimetype": "text/x-python",
   "name": "python",
   "nbconvert_exporter": "python",
   "pygments_lexer": "ipython3",
   "version": "3.10.13"
  }
 },
 "nbformat": 4,
 "nbformat_minor": 2
}
