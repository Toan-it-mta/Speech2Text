{
 "cells": [
  {
   "cell_type": "code",
   "execution_count": 1,
   "metadata": {},
   "outputs": [],
   "source": [
    "%load_ext tensorboard"
   ]
  },
  {
   "cell_type": "markdown",
   "metadata": {},
   "source": [
    "# Coppy các file cần test #"
   ]
  },
  {
   "cell_type": "code",
   "execution_count": 6,
   "metadata": {},
   "outputs": [
    {
     "name": "stderr",
     "output_type": "stream",
     "text": [
      "100%|██████████| 7465/7465 [00:00<00:00, 9893.76it/s] \n"
     ]
    }
   ],
   "source": [
    "import shutil\n",
    "import os\n",
    "import json \n",
    "from tqdm import tqdm\n",
    "\n",
    "with open(\"/mnt/wsl/PHYSICALDRIVE0p1/toan/Speech2Text/Test/part1/Datalabeled_18_12.json\") as f:\n",
    "    dataset = json.load(f)\n",
    "    \n",
    "for record in tqdm(dataset):\n",
    "    src_path = os.path.join(\"/mnt/wsl/PHYSICALDRIVE0p1/toan/ASR_Label/\",record['path'])\n",
    "    dst_path = os.path.join(\"/mnt/wsl/PHYSICALDRIVE0p1/toan/Speech2Text/Test/part1\",record['path'])\n",
    "    os.makedirs(os.path.dirname(dst_path), exist_ok=True)\n",
    "    shutil.copyfile(src_path,dst_path)"
   ]
  },
  {
   "cell_type": "markdown",
   "metadata": {},
   "source": [
    "# Chạy Test #"
   ]
  },
  {
   "cell_type": "code",
   "execution_count": 2,
   "metadata": {},
   "outputs": [
    {
     "name": "stderr",
     "output_type": "stream",
     "text": [
      "  2%|▏         | 118/7465 [10:44<11:06:32,  5.44s/it]"
     ]
    }
   ],
   "source": [
    "\n",
    "from transformers import WhisperProcessor, WhisperForConditionalGeneration\n",
    "import json\n",
    "from evaluate import load\n",
    "import os\n",
    "import string\n",
    "import unicodedata\n",
    "import re\n",
    "import librosa\n",
    "from tqdm import tqdm\n",
    "import shutil\n",
    "\n",
    "MODEL_NAME = '/mnt/wsl/PHYSICALDRIVE0p1/toan/Speech2Text/Trainning/models/whisper-medium-vi-aia-27-12-2023/checkpoint-26632'\n",
    "AUDIO_FOLDER = '/mnt/wsl/PHYSICALDRIVE0p1/toan/Speech2Text/RawDatasets'\n",
    "JSON_FILE = \"/mnt/wsl/PHYSICALDRIVE0p1/toan/Speech2Text/Datasets/Test/part1/Datalabeled_18_12.json\"\n",
    "\n",
    "def preprocess_text(text: str):\n",
    "    #remove punt\n",
    "    translator = str.maketrans(' ', ' ', string.punctuation)\n",
    "    text = text.translate(translator)\n",
    "    text = text.lower()\n",
    "    text = unicodedata.normalize(\"NFKC\", text)\n",
    "    text = text.replace('\\xa0', '')\n",
    "    text = re.sub(r\"\\s{2,}\", ' ',text);\n",
    "    return text\n",
    "\n",
    "class Whisper_Model:\n",
    "    def __init__(self,model_name,task, language) -> None:\n",
    "        self.processor = WhisperProcessor.from_pretrained(\"openai/whisper-small\",cache_dir=\"./models/\")\n",
    "        self.model = WhisperForConditionalGeneration.from_pretrained(model_name,cache_dir=\"./models/\")\n",
    "        self.forced_decoder_ids = self.processor.get_decoder_prompt_ids(language=language, task=task)\n",
    "        \n",
    "    def infer(self,audiopath:str) -> str:\n",
    "        y,src = librosa.load(audiopath,sr=16000,mono=True) \n",
    "        input_features = self.processor(y, sampling_rate=src, return_tensors=\"pt\").input_features\n",
    "        predicted_ids = self.model.generate(input_features, forced_decoder_ids=self.forced_decoder_ids)\n",
    "        transcription = self.processor.batch_decode(predicted_ids)\n",
    "        transcription = self.processor.batch_decode(predicted_ids, skip_special_tokens=True)\n",
    "        return transcription\n",
    "\n",
    "whisper_model = Whisper_Model(model_name= MODEL_NAME,task='transcribe',language=\"vi\")\n",
    "wer = load('wer')\n",
    "with open(JSON_FILE,encoding='utf-8') as f:\n",
    "    data_test = json.load(f)\n",
    "\n",
    "bac_pre = []\n",
    "bac_ref = []\n",
    "trung_pre = []\n",
    "trung_ref = []\n",
    "nam_pre = []\n",
    "nam_ref = []\n",
    "\n",
    "\n",
    "for record in tqdm(data_test):\n",
    "    predict = whisper_model.infer(os.path.join(AUDIO_FOLDER,record['path']))[0]\n",
    "    refer = preprocess_text(record['gold_sentence'])\n",
    "    record[MODEL_NAME] = predict\n",
    "    if record['location'] == 'bac':\n",
    "        bac_pre.append(predict)\n",
    "        bac_ref.append(refer)\n",
    "    elif record['location'] == 'nam':\n",
    "        nam_pre.append(predict)\n",
    "        nam_ref.append(refer)\n",
    "    elif record['location'] == 'trung':\n",
    "        trung_pre.append(predict)\n",
    "        trung_ref.append(refer)\n",
    "\n",
    "all_pre = bac_pre+trung_pre+nam_pre\n",
    "all_ref = bac_ref+trung_ref+nam_ref\n"
   ]
  },
  {
   "cell_type": "code",
   "execution_count": 2,
   "metadata": {},
   "outputs": [],
   "source": [
    "with open(JSON_FILE,'w',encoding='utf-8') as f:\n",
    "    json.dump(data_test,f,ensure_ascii=False)"
   ]
  },
  {
   "cell_type": "code",
   "execution_count": 1,
   "metadata": {},
   "outputs": [
    {
     "name": "stderr",
     "output_type": "stream",
     "text": [
      "100%|██████████| 7465/7465 [00:00<00:00, 43794.49it/s]\n"
     ]
    }
   ],
   "source": [
    "import json \n",
    "import string\n",
    "import unicodedata\n",
    "import re\n",
    "from tqdm import tqdm\n",
    "\n",
    "def preprocess_text(text: str):\n",
    "    #remove punt\n",
    "    translator = str.maketrans(' ', ' ', string.punctuation)\n",
    "    text = text.translate(translator)\n",
    "    text = text.lower()\n",
    "    text = unicodedata.normalize(\"NFKC\", text)\n",
    "    text = text.replace('\\xa0', '')\n",
    "    text = re.sub(r\"\\s{2,}\", ' ',text);\n",
    "    return text\n",
    "\n",
    "with open(\"/mnt/wsl/PHYSICALDRIVE0p1/toan/data_speech_to_text/Test/part1/Datalabeled_18_12.json\",encoding='utf-8') as f:\n",
    "    data_test = json.load(f)\n",
    "\n",
    "aia_predicts = [] \n",
    "predicts = []\n",
    "references = []\n",
    "bac_predicts = []\n",
    "aia_bac_predicts = []\n",
    "bac_references = []\n",
    "aia_trung_predicts = []\n",
    "trung_predicts = []\n",
    "trung_references = []\n",
    "aia_nam_predicts = []\n",
    "nam_predicts = []\n",
    "nam_references = []\n",
    "for record in tqdm(data_test):\n",
    "    gold_sentence = preprocess_text(record['gold_sentence'])\n",
    "    aia_sentence = preprocess_text(record['openai/whisper-medium'])\n",
    "    whisper_sentence = preprocess_text(record['whisper_base'][0])\n",
    "    if gold_sentence == \"\":\n",
    "        continue\n",
    "    aia_predicts.append(aia_sentence)\n",
    "    predicts.append(whisper_sentence)\n",
    "    references.append(gold_sentence)\n",
    "    if record['location'] == 'bac':\n",
    "        aia_bac_predicts.append(aia_sentence)\n",
    "        bac_predicts.append(whisper_sentence)\n",
    "        bac_references.append(gold_sentence)\n",
    "    elif record['location'] == 'trung':\n",
    "        aia_trung_predicts.append(aia_sentence)\n",
    "        trung_predicts.append(whisper_sentence)\n",
    "        trung_references.append(gold_sentence)\n",
    "    elif record['location'] == 'nam':\n",
    "        aia_nam_predicts.append(aia_sentence)\n",
    "        nam_predicts.append(whisper_sentence)\n",
    "        nam_references.append(gold_sentence)"
   ]
  },
  {
   "cell_type": "code",
   "execution_count": 2,
   "metadata": {},
   "outputs": [
    {
     "name": "stderr",
     "output_type": "stream",
     "text": [
      "/home/nlp_team/miniconda3/lib/python3.10/site-packages/tqdm/auto.py:21: TqdmWarning: IProgress not found. Please update jupyter and ipywidgets. See https://ipywidgets.readthedocs.io/en/stable/user_install.html\n",
      "  from .autonotebook import tqdm as notebook_tqdm\n"
     ]
    },
    {
     "name": "stdout",
     "output_type": "stream",
     "text": [
      "====whisper-base====\n",
      "all wer:  0.5086803355551613\n",
      "bac wer:  0.4748821372446307\n",
      "trung wer:  0.36468646864686466\n",
      "nam wer:  0.5895765472312704\n",
      "====aia-whisper-base====\n",
      "all wer:  0.26416943339162463\n",
      "bac wer:  0.25060240963855424\n",
      "trung wer:  0.30115511551155116\n",
      "nam wer:  0.2876612377850163\n"
     ]
    }
   ],
   "source": [
    "from evaluate import load\n",
    "wer = load(\"wer\")\n",
    "\n",
    "print('====whisper-base====')\n",
    "print('all wer: ',wer.compute(predictions=predicts,references=references))    \n",
    "print('bac wer: ',wer.compute(predictions=bac_predicts,references=bac_references))    \n",
    "print('trung wer: ',wer.compute(predictions=trung_predicts,references=trung_references))    \n",
    "print('nam wer: ',wer.compute(predictions=nam_predicts,references=nam_references))\n",
    "print('====aia-whisper-base====')\n",
    "print('all wer: ',wer.compute(predictions=aia_predicts,references=references))    \n",
    "print('bac wer: ',wer.compute(predictions=aia_bac_predicts,references=bac_references))    \n",
    "print('trung wer: ',wer.compute(predictions=aia_trung_predicts,references=trung_references))    \n",
    "print('nam wer: ',wer.compute(predictions=aia_nam_predicts,references=nam_references))\n",
    "\n",
    "    "
   ]
  }
 ],
 "metadata": {
  "kernelspec": {
   "display_name": "base",
   "language": "python",
   "name": "python3"
  },
  "language_info": {
   "codemirror_mode": {
    "name": "ipython",
    "version": 3
   },
   "file_extension": ".py",
   "mimetype": "text/x-python",
   "name": "python",
   "nbconvert_exporter": "python",
   "pygments_lexer": "ipython3",
   "version": "3.10.13"
  }
 },
 "nbformat": 4,
 "nbformat_minor": 2
}
