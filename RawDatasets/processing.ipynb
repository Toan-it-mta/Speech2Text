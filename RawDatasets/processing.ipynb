{
 "cells": [
  {
   "cell_type": "markdown",
   "metadata": {},
   "source": [
    "# Tiền xử lý dũ liệu #"
   ]
  },
  {
   "cell_type": "markdown",
   "metadata": {},
   "source": [
    "## VLSP 2020 (65h) ##"
   ]
  },
  {
   "cell_type": "code",
   "execution_count": 1,
   "metadata": {},
   "outputs": [],
   "source": [
    "import os \n",
    "import librosa\n",
    "\n",
    "audio_files = []\n",
    "script_files = []\n",
    "for root, folders, files in os.walk(\"./vlsp2020_train_set_02\"):\n",
    "    for file in files:\n",
    "        args_name = file.split('.')\n",
    "        if args_name[1] == 'wav':\n",
    "            audio_files.append(os.path.join(root,file))\n",
    "        elif args_name[1] == 'txt':\n",
    "            script_files.append(os.path.join(root,file))"
   ]
  },
  {
   "cell_type": "code",
   "execution_count": 1,
   "metadata": {},
   "outputs": [
    {
     "name": "stderr",
     "output_type": "stream",
     "text": [
      "100%|██████████| 112854/112854 [23:21<00:00, 80.52it/s] \n"
     ]
    }
   ],
   "source": [
    "import os\n",
    "from tqdm import tqdm\n",
    "import librosa\n",
    "import pickle\n",
    "\n",
    "def mappingAudioScript(audio_path, script_path):\n",
    "    obj = {\n",
    "            'path': audio_path,\n",
    "            'array': [],\n",
    "            'sentence': \"\"\n",
    "        }\n",
    "    try:\n",
    "        y, sr = librosa.load(audio_path,sr=16000,mono=True)\n",
    "        obj['array'] = y\n",
    "        obj['time'] = librosa.get_duration(y=y,sr=sr)\n",
    "        with open(script_path,encoding='utf-8') as f: \n",
    "            sentence = f.readline().strip()\n",
    "        obj['sentence'] = sentence\n",
    "        return obj\n",
    "    except:\n",
    "        print(\"not file Script: \",script_path)\n",
    "        return obj\n",
    "    \n",
    "def read_data(Audio_Folder, Script_Folder, audioFormat):\n",
    "    lst = [] \n",
    "    for root, _, files in os.walk(Audio_Folder):\n",
    "        for name in tqdm(files):\n",
    "            try:\n",
    "                if name.split('.')[-1] == audioFormat:\n",
    "                    audio_path = os.path.join(root,name)\n",
    "                    args = root.split(os.sep)\n",
    "                    args[0] = Script_Folder\n",
    "                    Script_Folder_Path = os.sep.join(args)\n",
    "                    script_path = os.path.join(Script_Folder_Path,name.split('.')[0]+'.txt')\n",
    "                    obj = mappingAudioScript(audio_path,script_path)\n",
    "                    if obj['time'] > 6 and obj['time'] < 30:\n",
    "                        lst.append(obj)\n",
    "            except Exception as e:\n",
    "                pass\n",
    "    with open('./VLSP.pkl', 'wb') as f:\n",
    "        pickle.dump(lst, f)\n",
    "\n",
    "if __name__ == '__main__':\n",
    "    audioFormat = 'wav'\n",
    "    Audio_Folder = 'vlsp2020_train_set_02'\n",
    "    Script_Folder = 'vlsp2020_train_set_02'\n",
    "    read_data(Audio_Folder,Script_Folder,audioFormat)\n"
   ]
  },
  {
   "cell_type": "code",
   "execution_count": 3,
   "metadata": {},
   "outputs": [],
   "source": [
    "#Read *.pkl\n",
    "import pickle\n",
    "\n",
    "def read_file_pkl(pkl_file_path):\n",
    "    with open(pkl_file_path,'rb') as f:\n",
    "        data = pickle.load(f)\n",
    "    return data"
   ]
  },
  {
   "cell_type": "code",
   "execution_count": null,
   "metadata": {},
   "outputs": [],
   "source": [
    "data = read_file_pkl(\"/mnt/wsl/PHYSICALDRIVE0p1/toan/data_speech_to_text/Public dataset/VLSP.pkl\")\n",
    "data"
   ]
  },
  {
   "cell_type": "markdown",
   "metadata": {},
   "source": [
    "## Vivos (15h) ##"
   ]
  },
  {
   "cell_type": "code",
   "execution_count": null,
   "metadata": {},
   "outputs": [],
   "source": [
    "import os\n",
    "import librosa \n",
    "from tqdm import tqdm\n",
    "\n",
    "FOLDER_AUDIO = '/mnt/wsl/PHYSICALDRIVE0p1/toan/data_speech_to_text/Public dataset/vivos/data/vivos'\n",
    "SCRIPT_TRAIN_PATH = '/mnt/wsl/PHYSICALDRIVE0p1/toan/data_speech_to_text/Public dataset/vivos/data/prompts-train.txt'\n",
    "SCRIPT_TEST_PATH = '/mnt/wsl/PHYSICALDRIVE0p1/toan/data_speech_to_text/Public dataset/vivos/data/prompts-test.txt'\n",
    "\n",
    "#read_script\n",
    "audio2script = {}\n",
    "with open(SCRIPT_TRAIN_PATH, encoding = 'utf-8') as f:\n",
    "    for row in f:\n",
    "        data = row.strip().split(\" \", 1)\n",
    "        audio2script[data[0]] = data[1]\n",
    "        \n",
    "with open(SCRIPT_TEST_PATH, encoding = 'utf-8') as f:\n",
    "    for row in f:\n",
    "        data = row.strip().split(\" \", 1)\n",
    "        audio2script[data[0]] = data[1]\n",
    "\n",
    "def mappingAudioScript(audio_path, file_name):\n",
    "    obj = {\n",
    "            'path': audio_path,\n",
    "            'array': [],\n",
    "            'sentence': \"\"\n",
    "        }\n",
    "    try:\n",
    "        y, sr = librosa.load(audio_path,sr=16000,mono=True)\n",
    "        obj['array'] = y\n",
    "        obj['time'] = librosa.get_duration(y=y,sr=sr)\n",
    "        obj['sentence'] = audio2script.get(file_name,\"\")\n",
    "        return obj\n",
    "    except Exception as e:\n",
    "        print('error: ',e)\n",
    "        return obj\n",
    "lst = [] \n",
    "# read audio\n",
    "for root, _, files in os.walk(FOLDER_AUDIO):\n",
    "    for file in tqdm(files):\n",
    "        if file.split('.')[-1] == 'wav':\n",
    "            audio_path = os.path.join(root,file)\n",
    "            args = root.split(os.sep)\n",
    "            obj = mappingAudioScript(audio_path,file.split('.')[0])\n",
    "            if obj['time'] < 30:\n",
    "                lst.append(obj)\n"
   ]
  },
  {
   "cell_type": "code",
   "execution_count": 5,
   "metadata": {},
   "outputs": [],
   "source": [
    "import pickle\n",
    "with open('./VIVOS.pkl', 'wb') as f:\n",
    "    pickle.dump(lst, f)"
   ]
  },
  {
   "cell_type": "markdown",
   "metadata": {},
   "source": [
    "## FPT (30h) ##"
   ]
  },
  {
   "cell_type": "code",
   "execution_count": 11,
   "metadata": {},
   "outputs": [
    {
     "name": "stderr",
     "output_type": "stream",
     "text": [
      "100%|██████████| 60197/60197 [02:17<00:00, 438.99it/s] \n"
     ]
    }
   ],
   "source": [
    "import os\n",
    "import librosa \n",
    "from tqdm import tqdm\n",
    "\n",
    "FOLDER_AUDIO = '/mnt/wsl/PHYSICALDRIVE0p1/toan/data_speech_to_text/Public dataset/FPT/mp3'\n",
    "SCRIPT_PATH = '/mnt/wsl/PHYSICALDRIVE0p1/toan/data_speech_to_text/Public dataset/FPT/transcriptAll.txt'\n",
    "\n",
    "\n",
    "#read_script\n",
    "audio2script = {}\n",
    "with open(SCRIPT_PATH, encoding = 'utf-8') as f:\n",
    "    for row in f:\n",
    "        data = row.strip().split(\"|\")\n",
    "        audio2script[data[0]] = data[1]\n",
    "        \n",
    "def mappingAudioScript(audio_path, file_name):\n",
    "    obj = {\n",
    "            'path': audio_path,\n",
    "            'array': [],\n",
    "            'sentence': \"\"\n",
    "        }\n",
    "    try:\n",
    "        y, sr = librosa.load(audio_path,sr=16000,mono=True)\n",
    "        obj['array'] = y\n",
    "        obj['time'] = librosa.get_duration(y=y,sr=sr)\n",
    "        obj['sentence'] = audio2script.get(file_name,\"\")\n",
    "        return obj\n",
    "    except Exception as e:\n",
    "        print('error: ',e)\n",
    "        return obj\n",
    "lst = [] \n",
    "\n",
    "# read audio\n",
    "for root, _, files in os.walk(FOLDER_AUDIO):\n",
    "    for file in tqdm(files):\n",
    "        if file.split('.')[-1] == 'mp3':\n",
    "            audio_path = os.path.join(root,file)\n",
    "            args = root.split(os.sep)\n",
    "            obj = mappingAudioScript(audio_path,file)\n",
    "            if obj['time'] < 30:\n",
    "                lst.append(obj)"
   ]
  },
  {
   "cell_type": "code",
   "execution_count": 12,
   "metadata": {},
   "outputs": [
    {
     "name": "stdout",
     "output_type": "stream",
     "text": [
      "30.163563333333894\n"
     ]
    }
   ],
   "source": [
    "time = 0\n",
    "for record in lst:\n",
    "    time+=record['time']\n",
    "print(time/3600)"
   ]
  },
  {
   "cell_type": "code",
   "execution_count": null,
   "metadata": {},
   "outputs": [],
   "source": [
    "import pickle\n",
    "with open('./FPT.pkl', 'wb') as f:\n",
    "    pickle.dump(lst, f)"
   ]
  },
  {
   "cell_type": "markdown",
   "metadata": {},
   "source": [
    "## AIA ASR (159h) ##"
   ]
  },
  {
   "cell_type": "code",
   "execution_count": 1,
   "metadata": {},
   "outputs": [],
   "source": [
    "from pymongo import MongoClient\n",
    "import os\n",
    "from tqdm import tqdm\n",
    "\n",
    "#Connect2Database\n",
    "client = MongoClient(\"192.168.1.60\", 27017)\n",
    "collection = client['ASR']['ASR_All'] "
   ]
  },
  {
   "cell_type": "code",
   "execution_count": 10,
   "metadata": {},
   "outputs": [],
   "source": [
    "result = list(collection.find({\"compare\": True, \"time\": {\"$lte\":30 }}, {'_id':0, 'gold_sentence': 0, 'labeled': 0, 'humman': 0 }))"
   ]
  },
  {
   "cell_type": "code",
   "execution_count": 11,
   "metadata": {},
   "outputs": [
    {
     "data": {
      "text/plain": [
       "291082"
      ]
     },
     "execution_count": 11,
     "metadata": {},
     "output_type": "execute_result"
    }
   ],
   "source": [
    "len(result)"
   ]
  },
  {
   "cell_type": "code",
   "execution_count": 12,
   "metadata": {},
   "outputs": [
    {
     "data": {
      "text/plain": [
       "159.74713348960978"
      ]
     },
     "execution_count": 12,
     "metadata": {},
     "output_type": "execute_result"
    }
   ],
   "source": [
    "time = 0\n",
    "for record in result:\n",
    "    time += record['time']\n",
    "time/3600"
   ]
  }
 ],
 "metadata": {
  "kernelspec": {
   "display_name": "base",
   "language": "python",
   "name": "python3"
  },
  "language_info": {
   "codemirror_mode": {
    "name": "ipython",
    "version": 3
   },
   "file_extension": ".py",
   "mimetype": "text/x-python",
   "name": "python",
   "nbconvert_exporter": "python",
   "pygments_lexer": "ipython3",
   "version": "3.10.13"
  }
 },
 "nbformat": 4,
 "nbformat_minor": 2
}
