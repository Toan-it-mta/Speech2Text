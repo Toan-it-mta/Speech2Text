{
 "cells": [
  {
   "cell_type": "markdown",
   "metadata": {},
   "source": [
    "# Đọc dữ liệu từ file PKL #"
   ]
  },
  {
   "cell_type": "code",
   "execution_count": 1,
   "metadata": {},
   "outputs": [],
   "source": [
    "#Read *.pkl\n",
    "import pickle\n",
    "\n",
    "def read_file_pkl(pkl_file_path):\n",
    "    with open(pkl_file_path,'rb') as f:\n",
    "        data = pickle.load(f)\n",
    "    return data"
   ]
  },
  {
   "cell_type": "code",
   "execution_count": 2,
   "metadata": {},
   "outputs": [
    {
     "name": "stderr",
     "output_type": "stream",
     "text": [
      "/home/nlp_team/miniconda3/lib/python3.10/site-packages/tqdm/auto.py:21: TqdmWarning: IProgress not found. Please update jupyter and ipywidgets. See https://ipywidgets.readthedocs.io/en/stable/user_install.html\n",
      "  from .autonotebook import tqdm as notebook_tqdm\n"
     ]
    },
    {
     "name": "stdout",
     "output_type": "stream",
     "text": [
      "3\n",
      "VLSP.pkl\n"
     ]
    },
    {
     "name": "stderr",
     "output_type": "stream",
     "text": [
      "100%|██████████| 23799/23799 [01:05<00:00, 361.20it/s]\n"
     ]
    },
    {
     "name": "stdout",
     "output_type": "stream",
     "text": [
      "VIVOS.pkl\n"
     ]
    },
    {
     "name": "stderr",
     "output_type": "stream",
     "text": [
      "100%|██████████| 12420/12420 [00:34<00:00, 360.51it/s]\n"
     ]
    },
    {
     "name": "stdout",
     "output_type": "stream",
     "text": [
      "FPT.pkl\n"
     ]
    },
    {
     "name": "stderr",
     "output_type": "stream",
     "text": [
      "100%|██████████| 25919/25919 [01:06<00:00, 388.39it/s]"
     ]
    },
    {
     "name": "stdout",
     "output_type": "stream",
     "text": [
      "equals sample:  13271\n",
      "all sample:  62138\n",
      "0.2135730149023142\n"
     ]
    },
    {
     "name": "stderr",
     "output_type": "stream",
     "text": [
      "\n"
     ]
    }
   ],
   "source": [
    "#Insert to database\n",
    "from pymongo import MongoClient\n",
    "import os\n",
    "from tqdm import tqdm\n",
    "from evaluate import load\n",
    "import string\n",
    "import unicodedata\n",
    "import re\n",
    "\n",
    "#Connect2Database\n",
    "client = MongoClient(\"192.168.1.60\", 27017)\n",
    "collection = client['ASR']['ASR_All'] \n",
    "wer = load(\"wer\")\n",
    "\n",
    "def preprocess_text(text: str):\n",
    "    translator = str.maketrans('', '', string.punctuation)\n",
    "    text = text.translate(translator)\n",
    "    text = text.lower()\n",
    "    text = unicodedata.normalize(\"NFKC\", text)\n",
    "    text = text.replace('\\xa0', '')\n",
    "    text = re.sub(r\"\\s{2,}\", ' ',text);\n",
    "    return text\n",
    "\n",
    "def insert2database(record):\n",
    "    time = len(record['array']) / 16000\n",
    "    del record['array']\n",
    "    record['visitted'] = False\n",
    "    record['gold_sentence'] = \"\"\n",
    "    record['labeled'] = False\n",
    "    record['humman'] = None\n",
    "    record['time'] = time\n",
    "    record['location'] = None\n",
    "    record['sex'] = None\n",
    "    record['date_labeld'] = None\n",
    "    record['wer_autosub_whisper'] = wer.compute(references=[preprocess_text(record['sentence'])],predictions=[preprocess_text(record['api_sentence'])])\n",
    "    # if existing_record is None:\n",
    "    if record['compare'] == True:   \n",
    "        record['visitted'] = True\n",
    "        record['gold_sentence'] = record['sentence']\n",
    "        record['labeled'] = True\n",
    "        record['humman'] = 'openAI/whisper'\n",
    "    collection.insert_one(record)\n",
    "\n",
    "count_equals = 0\n",
    "count_all = 0\n",
    "Equals_lst = []\n",
    "\n",
    "for root, _, files in os.walk(\"Datasets/PublicDataset\"):\n",
    "    print(len(files))\n",
    "    for file in files:\n",
    "        print(file)\n",
    "        path_file = os.path.join(root,file)\n",
    "        data = read_file_pkl(path_file)\n",
    "        for record in tqdm(data):\n",
    "            if record['compare'] == True:\n",
    "                Equals_lst.append(record)\n",
    "            insert2database(record)\n",
    "        count_all += len(data)\n",
    "        \n",
    "print('equals sample: ',str(len(Equals_lst)))\n",
    "print('all sample: ',str(count_all))\n",
    "print(len(Equals_lst)/count_all)   \n",
    "client.close()"
   ]
  },
  {
   "cell_type": "markdown",
   "metadata": {},
   "source": [
    "# Create Dataset #"
   ]
  },
  {
   "cell_type": "code",
   "execution_count": null,
   "metadata": {},
   "outputs": [],
   "source": [
    "from datasets import load_dataset\n",
    "\n",
    "dataset = load_dataset(\"AIA_ASR\", data_dir=\".\")"
   ]
  },
  {
   "cell_type": "markdown",
   "metadata": {},
   "source": [
    "# Thêm Trường thời gian #"
   ]
  },
  {
   "cell_type": "code",
   "execution_count": null,
   "metadata": {},
   "outputs": [],
   "source": [
    "from pymongo import MongoClient\n",
    "import librosa\n",
    "from tqdm import tqdm\n",
    "client = MongoClient(\"192.168.1.60\", 27017)\n",
    "collection = client['ASR']['ASR']\n",
    "\n",
    "\n",
    "random_samples = list(collection.find({},{\"path\": 1,\"_id\": 0}))\n",
    "    #Update sample is visitted\n",
    "count = 0\n",
    "for sample in tqdm(random_samples):\n",
    "    try:\n",
    "        time = librosa.get_duration(filename=sample['path'])\n",
    "        if time >= 5:\n",
    "            count += 1\n",
    "    except:\n",
    "        print(sample['path'])\n",
    "    # myquery = { \"path\": sample['path']}\n",
    "    # update_data = { \"$set\": { \"time\": True } }\n",
    "    # collection.update_one(myquery, update_data)\n",
    "client.close()\n",
    "print(count/len(random_samples))"
   ]
  },
  {
   "cell_type": "markdown",
   "metadata": {},
   "source": [
    "# Lọc tập Test #"
   ]
  },
  {
   "cell_type": "code",
   "execution_count": 1,
   "metadata": {},
   "outputs": [],
   "source": [
    "import json\n",
    "import pandas as pd\n",
    "\n",
    "\n",
    "with open('./Datalabeled_18_12.json','r',encoding='utf-8') as f:\n",
    "    data_labeld = json.load(f)\n",
    "    \n",
    "df = pd.read_csv(\"./ASR_done_07_12.csv\")\n",
    "data_train_test = df['path']"
   ]
  },
  {
   "cell_type": "code",
   "execution_count": null,
   "metadata": {},
   "outputs": [],
   "source": [
    "data_train_test = data_train_test.to_list()\n",
    "data_labeld"
   ]
  },
  {
   "cell_type": "code",
   "execution_count": 4,
   "metadata": {},
   "outputs": [
    {
     "data": {
      "text/plain": [
       "8542"
      ]
     },
     "execution_count": 4,
     "metadata": {},
     "output_type": "execute_result"
    }
   ],
   "source": [
    "len(data_labeld)"
   ]
  },
  {
   "cell_type": "code",
   "execution_count": 9,
   "metadata": {},
   "outputs": [],
   "source": [
    "for record in data_labeld:\n",
    "    if record['path'] in data_train_test:\n",
    "        data_labeld.remove(record)"
   ]
  },
  {
   "cell_type": "code",
   "execution_count": 11,
   "metadata": {},
   "outputs": [],
   "source": [
    "with open('./Datalabeled_18_12.json','w',encoding='utf-8') as f:\n",
    "    json.dump(data_labeld,f,ensure_ascii=False)"
   ]
  },
  {
   "cell_type": "markdown",
   "metadata": {},
   "source": [
    "# Thêm trường WER-Score #"
   ]
  },
  {
   "cell_type": "code",
   "execution_count": 10,
   "metadata": {},
   "outputs": [
    {
     "name": "stderr",
     "output_type": "stream",
     "text": [
      "100%|██████████| 1242741/1242741 [44:12<00:00, 468.52it/s] \n"
     ]
    }
   ],
   "source": [
    "from pymongo import MongoClient\n",
    "from tqdm import tqdm\n",
    "from evaluate import load\n",
    "\n",
    "client = MongoClient(\"192.168.1.60\", 27017)\n",
    "collection = client['ASR']['ASR_All'] \n",
    "\n",
    "wer = load(\"wer\")\n",
    "\n",
    "def update_wer():\n",
    "    try:\n",
    "        all_records = list(collection.find({}))\n",
    "        for record in tqdm(all_records):\n",
    "            score_wer = wer.compute(predictions=[record['sentence']],references=[record['api_sentence']])\n",
    "            myquery = { \"_id\": record['_id']}\n",
    "            update_data = { \"$set\": {\n",
    "                                \"wer_autosub_whisper\": score_wer\n",
    "                                }}\n",
    "            collection.update_one(myquery,update_data)\n",
    "    except:\n",
    "        client.close()\n",
    "        \n",
    "update_wer()\n",
    "client.close()\n",
    "\n"
   ]
  },
  {
   "cell_type": "code",
   "execution_count": 2,
   "metadata": {},
   "outputs": [],
   "source": [
    "#Read *.pkl\n",
    "import pickle\n",
    "\n",
    "def read_file_pkl(pkl_file_path):\n",
    "    with open(pkl_file_path,'rb') as f:\n",
    "        data = pickle.load(f)\n",
    "    return data"
   ]
  },
  {
   "cell_type": "code",
   "execution_count": null,
   "metadata": {},
   "outputs": [],
   "source": [
    "data = read_file_pkl('/mnt/wsl/PHYSICALDRIVE0p1/toan/data_speech_to_text/ASR/pkls_done/VLSP.pkl')\n",
    "data[0]"
   ]
  },
  {
   "cell_type": "code",
   "execution_count": 1,
   "metadata": {},
   "outputs": [
    {
     "name": "stderr",
     "output_type": "stream",
     "text": [
      "/home/nlp_team/miniconda3/lib/python3.10/site-packages/tqdm/auto.py:21: TqdmWarning: IProgress not found. Please update jupyter and ipywidgets. See https://ipywidgets.readthedocs.io/en/stable/user_install.html\n",
      "  from .autonotebook import tqdm as notebook_tqdm\n"
     ]
    }
   ],
   "source": [
    "from pymongo import MongoClient\n",
    "import os\n",
    "from tqdm import tqdm\n",
    "from evaluate import load\n",
    "import string\n",
    "import unicodedata\n",
    "import re\n",
    "\n",
    "#Connect2Database\n",
    "client = MongoClient(\"192.168.1.60\", 27017)\n",
    "collection = client['ASR']['ASR_All'] "
   ]
  },
  {
   "cell_type": "code",
   "execution_count": 23,
   "metadata": {},
   "outputs": [],
   "source": [
    "sample_stage = {\"$sample\": {\"size\": 100}}\n",
    "random_samples = list(collection.aggregate([sample_stage]))"
   ]
  },
  {
   "cell_type": "code",
   "execution_count": 29,
   "metadata": {},
   "outputs": [
    {
     "data": {
      "text/plain": [
       "'6585087aef952e214a10c222'"
      ]
     },
     "execution_count": 29,
     "metadata": {},
     "output_type": "execute_result"
    }
   ],
   "source": [
    "str(random_samples[0]['_id'])"
   ]
  },
  {
   "cell_type": "code",
   "execution_count": null,
   "metadata": {},
   "outputs": [],
   "source": [
    "from bson import ObjectId\n",
    "target_object_id = ObjectId(\"6585087aef952e214a10c222\")\n",
    "result = collection.find_one({\"_id\": target_object_id})\n",
    "result"
   ]
  },
  {
   "cell_type": "markdown",
   "metadata": {},
   "source": [
    "# Thay đổi visited với audi dài #"
   ]
  },
  {
   "cell_type": "code",
   "execution_count": 1,
   "metadata": {},
   "outputs": [
    {
     "name": "stderr",
     "output_type": "stream",
     "text": [
      "/home/nlp_team/miniconda3/lib/python3.10/site-packages/tqdm/auto.py:21: TqdmWarning: IProgress not found. Please update jupyter and ipywidgets. See https://ipywidgets.readthedocs.io/en/stable/user_install.html\n",
      "  from .autonotebook import tqdm as notebook_tqdm\n",
      "100%|██████████| 3145/3145 [00:00<00:00, 4244.81it/s]\n"
     ]
    }
   ],
   "source": [
    "from pymongo import MongoClient\n",
    "from tqdm import tqdm\n",
    "from evaluate import load\n",
    "import random\n",
    "\n",
    "client = MongoClient(\"192.168.1.60\", 27017)\n",
    "collection = client['ASR']['ASR'] \n",
    "\n",
    "wer = load(\"wer\")\n",
    "\n",
    "def update_visted():\n",
    "    try:\n",
    "        all_records = list(collection.find({\"compare\": False, \"visitted\": False, \"time\": {\"$gte\":5 }, \"path\": {\"$regex\": \"Đời_Người_Tị_Nạn\"}}))\n",
    "        for record in tqdm(all_records):\n",
    "            if random.random() > 0.1:\n",
    "                myquery = { \"_id\": record['_id']}\n",
    "                update_data = { \"$set\": {\n",
    "                                    \"visitted\": True\n",
    "                                    }}\n",
    "                collection.update_one(myquery,update_data)\n",
    "    except:\n",
    "        client.close()\n",
    "        \n",
    "update_visted()\n",
    "client.close()"
   ]
  }
 ],
 "metadata": {
  "kernelspec": {
   "display_name": "event_module",
   "language": "python",
   "name": "python3"
  },
  "language_info": {
   "codemirror_mode": {
    "name": "ipython",
    "version": 3
   },
   "file_extension": ".py",
   "mimetype": "text/x-python",
   "name": "python",
   "nbconvert_exporter": "python",
   "pygments_lexer": "ipython3",
   "version": "3.10.13"
  }
 },
 "nbformat": 4,
 "nbformat_minor": 2
}
