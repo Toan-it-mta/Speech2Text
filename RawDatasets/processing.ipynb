{
 "cells": [
  {
   "cell_type": "markdown",
   "metadata": {},
   "source": [
    "# Tiền xử lý dũ liệu #"
   ]
  },
  {
   "cell_type": "markdown",
   "metadata": {},
   "source": [
    "## VLSP 2020 (65h) ##"
   ]
  },
  {
   "cell_type": "code",
   "execution_count": 1,
   "metadata": {},
   "outputs": [],
   "source": [
    "import os \n",
    "import librosa\n",
    "\n",
    "audio_files = []\n",
    "script_files = []\n",
    "for root, folders, files in os.walk(\"./vlsp2020_train_set_02\"):\n",
    "    for file in files:\n",
    "        args_name = file.split('.')\n",
    "        if args_name[1] == 'wav':\n",
    "            audio_files.append(os.path.join(root,file))\n",
    "        elif args_name[1] == 'txt':\n",
    "            script_files.append(os.path.join(root,file))"
   ]
  },
  {
   "cell_type": "code",
   "execution_count": 1,
   "metadata": {},
   "outputs": [
    {
     "name": "stderr",
     "output_type": "stream",
     "text": [
      "100%|██████████| 112854/112854 [23:21<00:00, 80.52it/s] \n"
     ]
    }
   ],
   "source": [
    "import os\n",
    "from tqdm import tqdm\n",
    "import librosa\n",
    "import pickle\n",
    "\n",
    "def mappingAudioScript(audio_path, script_path):\n",
    "    obj = {\n",
    "            'path': audio_path,\n",
    "            'array': [],\n",
    "            'sentence': \"\"\n",
    "        }\n",
    "    try:\n",
    "        y, sr = librosa.load(audio_path,sr=16000,mono=True)\n",
    "        obj['array'] = y\n",
    "        obj['time'] = librosa.get_duration(y=y,sr=sr)\n",
    "        with open(script_path,encoding='utf-8') as f: \n",
    "            sentence = f.readline().strip()\n",
    "        obj['sentence'] = sentence\n",
    "        return obj\n",
    "    except:\n",
    "        print(\"not file Script: \",script_path)\n",
    "        return obj\n",
    "    \n",
    "def read_data(Audio_Folder, Script_Folder, audioFormat):\n",
    "    lst = [] \n",
    "    for root, _, files in os.walk(Audio_Folder):\n",
    "        for name in tqdm(files):\n",
    "            try:\n",
    "                if name.split('.')[-1] == audioFormat:\n",
    "                    audio_path = os.path.join(root,name)\n",
    "                    args = root.split(os.sep)\n",
    "                    args[0] = Script_Folder\n",
    "                    Script_Folder_Path = os.sep.join(args)\n",
    "                    script_path = os.path.join(Script_Folder_Path,name.split('.')[0]+'.txt')\n",
    "                    obj = mappingAudioScript(audio_path,script_path)\n",
    "                    if obj['time'] > 6 and obj['time'] < 30:\n",
    "                        lst.append(obj)\n",
    "            except Exception as e:\n",
    "                pass\n",
    "    with open('./VLSP.pkl', 'wb') as f:\n",
    "        pickle.dump(lst, f)\n",
    "\n",
    "if __name__ == '__main__':\n",
    "    audioFormat = 'wav'\n",
    "    Audio_Folder = 'vlsp2020_train_set_02'\n",
    "    Script_Folder = 'vlsp2020_train_set_02'\n",
    "    read_data(Audio_Folder,Script_Folder,audioFormat)\n"
   ]
  },
  {
   "cell_type": "code",
   "execution_count": 3,
   "metadata": {},
   "outputs": [],
   "source": [
    "#Read *.pkl\n",
    "import pickle\n",
    "\n",
    "def read_file_pkl(pkl_file_path):\n",
    "    with open(pkl_file_path,'rb') as f:\n",
    "        data = pickle.load(f)\n",
    "    return data"
   ]
  },
  {
   "cell_type": "code",
   "execution_count": null,
   "metadata": {},
   "outputs": [],
   "source": [
    "data = read_file_pkl(\"/mnt/wsl/PHYSICALDRIVE0p1/toan/data_speech_to_text/Public dataset/VLSP.pkl\")\n",
    "data"
   ]
  },
  {
   "cell_type": "markdown",
   "metadata": {},
   "source": [
    "## Vivos (15h) ##"
   ]
  },
  {
   "cell_type": "code",
   "execution_count": null,
   "metadata": {},
   "outputs": [],
   "source": [
    "import os\n",
    "import librosa \n",
    "from tqdm import tqdm\n",
    "\n",
    "FOLDER_AUDIO = '/mnt/wsl/PHYSICALDRIVE0p1/toan/data_speech_to_text/Public dataset/vivos/data/vivos'\n",
    "SCRIPT_TRAIN_PATH = '/mnt/wsl/PHYSICALDRIVE0p1/toan/data_speech_to_text/Public dataset/vivos/data/prompts-train.txt'\n",
    "SCRIPT_TEST_PATH = '/mnt/wsl/PHYSICALDRIVE0p1/toan/data_speech_to_text/Public dataset/vivos/data/prompts-test.txt'\n",
    "\n",
    "#read_script\n",
    "audio2script = {}\n",
    "with open(SCRIPT_TRAIN_PATH, encoding = 'utf-8') as f:\n",
    "    for row in f:\n",
    "        data = row.strip().split(\" \", 1)\n",
    "        audio2script[data[0]] = data[1]\n",
    "        \n",
    "with open(SCRIPT_TEST_PATH, encoding = 'utf-8') as f:\n",
    "    for row in f:\n",
    "        data = row.strip().split(\" \", 1)\n",
    "        audio2script[data[0]] = data[1]\n",
    "\n",
    "def mappingAudioScript(audio_path, file_name):\n",
    "    obj = {\n",
    "            'path': audio_path,\n",
    "            'array': [],\n",
    "            'sentence': \"\"\n",
    "        }\n",
    "    try:\n",
    "        y, sr = librosa.load(audio_path,sr=16000,mono=True)\n",
    "        obj['array'] = y\n",
    "        obj['time'] = librosa.get_duration(y=y,sr=sr)\n",
    "        obj['sentence'] = audio2script.get(file_name,\"\")\n",
    "        return obj\n",
    "    except Exception as e:\n",
    "        print('error: ',e)\n",
    "        return obj\n",
    "lst = [] \n",
    "# read audio\n",
    "for root, _, files in os.walk(FOLDER_AUDIO):\n",
    "    for file in tqdm(files):\n",
    "        if file.split('.')[-1] == 'wav':\n",
    "            audio_path = os.path.join(root,file)\n",
    "            args = root.split(os.sep)\n",
    "            obj = mappingAudioScript(audio_path,file.split('.')[0])\n",
    "            if obj['time'] < 30:\n",
    "                lst.append(obj)\n"
   ]
  },
  {
   "cell_type": "code",
   "execution_count": 5,
   "metadata": {},
   "outputs": [],
   "source": [
    "import pickle\n",
    "with open('./VIVOS.pkl', 'wb') as f:\n",
    "    pickle.dump(lst, f)"
   ]
  },
  {
   "cell_type": "markdown",
   "metadata": {},
   "source": [
    "## FPT (30h) ##"
   ]
  },
  {
   "cell_type": "code",
   "execution_count": 11,
   "metadata": {},
   "outputs": [
    {
     "name": "stderr",
     "output_type": "stream",
     "text": [
      "100%|██████████| 60197/60197 [02:17<00:00, 438.99it/s] \n"
     ]
    }
   ],
   "source": [
    "import os\n",
    "import librosa \n",
    "from tqdm import tqdm\n",
    "\n",
    "FOLDER_AUDIO = '/mnt/wsl/PHYSICALDRIVE0p1/toan/data_speech_to_text/Public dataset/FPT/mp3'\n",
    "SCRIPT_PATH = '/mnt/wsl/PHYSICALDRIVE0p1/toan/data_speech_to_text/Public dataset/FPT/transcriptAll.txt'\n",
    "\n",
    "\n",
    "#read_script\n",
    "audio2script = {}\n",
    "with open(SCRIPT_PATH, encoding = 'utf-8') as f:\n",
    "    for row in f:\n",
    "        data = row.strip().split(\"|\")\n",
    "        audio2script[data[0]] = data[1]\n",
    "        \n",
    "def mappingAudioScript(audio_path, file_name):\n",
    "    obj = {\n",
    "            'path': audio_path,\n",
    "            'array': [],\n",
    "            'sentence': \"\"\n",
    "        }\n",
    "    try:\n",
    "        y, sr = librosa.load(audio_path,sr=16000,mono=True)\n",
    "        obj['array'] = y\n",
    "        obj['time'] = librosa.get_duration(y=y,sr=sr)\n",
    "        obj['sentence'] = audio2script.get(file_name,\"\")\n",
    "        return obj\n",
    "    except Exception as e:\n",
    "        print('error: ',e)\n",
    "        return obj\n",
    "lst = [] \n",
    "\n",
    "# read audio\n",
    "for root, _, files in os.walk(FOLDER_AUDIO):\n",
    "    for file in tqdm(files):\n",
    "        if file.split('.')[-1] == 'mp3':\n",
    "            audio_path = os.path.join(root,file)\n",
    "            args = root.split(os.sep)\n",
    "            obj = mappingAudioScript(audio_path,file)\n",
    "            if obj['time'] < 30:\n",
    "                lst.append(obj)"
   ]
  },
  {
   "cell_type": "code",
   "execution_count": 12,
   "metadata": {},
   "outputs": [
    {
     "name": "stdout",
     "output_type": "stream",
     "text": [
      "30.163563333333894\n"
     ]
    }
   ],
   "source": [
    "time = 0\n",
    "for record in lst:\n",
    "    time+=record['time']\n",
    "print(time/3600)"
   ]
  },
  {
   "cell_type": "code",
   "execution_count": null,
   "metadata": {},
   "outputs": [],
   "source": [
    "import pickle\n",
    "with open('./FPT.pkl', 'wb') as f:\n",
    "    pickle.dump(lst, f)"
   ]
  },
  {
   "cell_type": "markdown",
   "metadata": {},
   "source": [
    "## AIA ASR (159h) ##"
   ]
  },
  {
   "cell_type": "code",
   "execution_count": 1,
   "metadata": {},
   "outputs": [],
   "source": [
    "from pymongo import MongoClient\n",
    "import os\n",
    "from tqdm import tqdm\n",
    "\n",
    "#Connect2Database\n",
    "client = MongoClient(\"192.168.1.60\", 27017)\n",
    "collection = client['ASR']['ASR_All'] "
   ]
  },
  {
   "cell_type": "code",
   "execution_count": 10,
   "metadata": {},
   "outputs": [],
   "source": [
    "result = list(collection.find({\"compare\": True, \"time\": {\"$lte\":30 }}, {'_id':0, 'gold_sentence': 0, 'labeled': 0, 'humman': 0 }))"
   ]
  },
  {
   "cell_type": "code",
   "execution_count": 11,
   "metadata": {},
   "outputs": [
    {
     "data": {
      "text/plain": [
       "291082"
      ]
     },
     "execution_count": 11,
     "metadata": {},
     "output_type": "execute_result"
    }
   ],
   "source": [
    "len(result)"
   ]
  },
  {
   "cell_type": "code",
   "execution_count": 12,
   "metadata": {},
   "outputs": [
    {
     "data": {
      "text/plain": [
       "159.74713348960978"
      ]
     },
     "execution_count": 12,
     "metadata": {},
     "output_type": "execute_result"
    }
   ],
   "source": [
    "time = 0\n",
    "for record in result:\n",
    "    time += record['time']\n",
    "time/3600"
   ]
  },
  {
   "cell_type": "code",
   "execution_count": 4,
   "metadata": {},
   "outputs": [],
   "source": [
    "pred = ['mà anh lại làm được một cái công việc gọi là 10 đồng 1 giờ là giàu rồi đó nhé quý vị không phải là chuyện dễ vâng mời anh', 'rồi là hỗ trợ các nhu yếu phẩm để chuyển đến bằng các phương tiện cao nô', 'luôn ghi nhớ trí ấn cả thế hệ cha anh bằng nhiều việc làm thiết thực', 'tạo điều kiện bệnh rất gần chờ quan tâm cho vợ chồng nên buôn bán sửa chữa', 'vợ chồng ông yên tâm vì địa điểm kinh doanh bây giờ đã sạch đẹp', 'tri ân 64 chiến sĩ đã hy sinh trong trận chiến gạc ma', 'cái gọi là chúng sống với bệnh triệu đường cho nó không lành hiện nay thì', 'sáng này mùi kè đá của phía bức và diesel mà thật rất nguy hiểm', 'hướng dẫn trên bao bì hoặc đã sử dụng măn minh hoa vào cái hàm lượng nước đó và', 'tức là nói nhiều quá thì thành ra bậy bạ rồi thành ra', 'là một cái quá trình mà trong đó nó thấm đẫm cả nước mắt và nụ cười', 'kiểm soát được mình cũng không thể nào mà làm tốt được hết cho nên', 'đó là một thế hệ robot mang tên người và nó vô tri vô cảm', 'cho nên chúng ta phải bố thí là bằng cách buông bỏ cái suy nghĩ này', 'còn chúng ta cứ muốn rằng con cái của mình phải nằm trong vòng tay của mình không có để nó thoát ra của mình thì đây là một cái', 'pháp thí tức là phải bố thí cho con mình một cái đường hướng sống hạnh phúc', 'đó cho nên cái phương pháp đồng sự ở đây là cái phương pháp mà đức phật', 'nó được ủ bằng phân urea là một cái chất đâu có tốt lành gì nhưng mà nó vẫn tươi', 'người con việc quá chừng 1234568910 mấy chục lội', 'phải sống với cái tâm ích kỷ mà sống với lòng vì tha', 'thì tự nhiên cái người đó liệt bắt gặp cái từ trường đó', 'mình vẫn còn hờn trách một cái người nào đó ở ngoài kia đem đau khổ cho người khác', 'nó chạy ra hết tại cái bát nước nó bị thủng cái đáy', 'thậm chí đó là có nhiều người tu học lâu năm', 'nhiều người nghĩ sai mà biến cái sai đó thành đống thì nó trở thành đống', 'ngóc ngách khía cạnh ở trong cuộc đời này trong cái thế gian này', 'ông đã tìm mọi cách để mà đi tìm là gặp cái người đó', 'thành ra đó cái khổ đau cái hạnh phúc', 'nhưng mà khi mà tất cả mọi người ra rồi á thì có một người không có bước ra', 'thì trong kinh a hàm đức phật mới nói là có hai cách', 'mình sống cuộc đời của mình 100 năm mà mình không có hiểu được', 'mà trai thì còn nhiều thành ra không có lo trong cái việc là ế ẩm', 'cho nên một lần nữa các bạn hãy về trong khoa thu mùa hè này', 'và không một kẻ chém gió nào có đủ skill để nói hết được những nỗi nhớ của mình', 'xin chào và hẹn gặp lại các anh em trong 7 ngày sau', 'vì mẹ không thể nào gọi điện thoại cho con được', 'nhưng trước khi ra về anh hãy làm cho tôi một việc', 'vào buổi tối theo lời dặn của người giám đốc', 'sấm xuất sắc trong từng những cái con chừ xuất sắc để mà được ra oan', 'lúc mà mẹ cho con ăn thì bà mẹ hát như vậy', 'những giấc mơ là một sản phẩm vô nghĩa của hoạt động bị nhiễu của tâm linh', 'được là cái tốt nếu không được mình chỉnh kỷ luật cùng mình sáng tác', 'và cái bước thứ ba là cùng con hành cái chuyện đó', 'một ngày các bạn ôm con một lần thì vui lòng một lần dắt nó ra công viên cho nó nghịch ngợm', 'thì hồi con tôi còn bé xíu là mặc định là đi nhà xoay', 'trước khi em chia sẻ thì em xin hỏi 1 câu với mọi người thì ai là ai', 'cảm giác đủ là đủ cảm giác yêu thương là đong đầy cảm giác hạnh phúc là nó sẽ đến trái tim mình rút', 'con trai mà có tự tin cầu tiến', 'dạ rất là nhiều chửi em này kia nọ đó là em giật chồng hay em gì', 'thành công của việt nam tan thuộc triệu dài lịch sử', 'kính tổng cộng ông đã dùng đến 5000 cái hộp để đóng gói toàn bộ số găng tay còn lại', 'thì thông thường là kinh nghiệm mà tôi áp dụng song song là rất hiệu quả', 'thì đây cũng thế cái chuyện cái con quỷ này á nó đến với ai đến chỗ nào', 'để gọi là thân thể bì phu cho đến móng tay đều của cha mẹ cho', 'vậy tiếng việt và tiếng anh là cái mà các bạn chuyển tại', 'hoặc là cái người mà tôi được 77 khóa rồi á', 'thì trong thời gian mà chờ đợi để mà những cái thủ tục cần thiết ở tỉnh quảng bình', 'mà phương pháp thì như chúng tôi nói là nó không quy chung', 'ta đi toàn là xe hơi xe máy đồ xe đạp rồi không đi', 'khi thở ra quí vị tưởng tượng những cái phiền mồn', 'sư sứ giải thoát tức là nơi nào giới luật được tuân thủ thì nơi ấy cuộc sống được thân', 'mà phát nguyện trước phật như vậy trước tam bảo thì chúng ta phải biểu hiện hành động là gì', 'khi mà giải đệ tử về mặt đạo đức có từng bậc', 'vua xà thế vội chạy đến thái hậu vi đề hy', 'cúng dường bằng của cải vật chất', 'phải đăng từng mắt thấy tai nghe là như vậy', 'giải thích chữ già và chết theo kinh tạng niacaya', 'những lời dạy đức phật một chữ là một duyên ngọc một chữ là một duyên ngọc một chữ là một duyên ngọc', '100 năm nữa chết hết và đương nhiên 100 năm nữa tất cả những người này già hết', 'tất cả những con c�