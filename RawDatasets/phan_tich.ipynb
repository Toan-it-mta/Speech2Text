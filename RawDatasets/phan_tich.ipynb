{
 "cells": [
  {
   "cell_type": "markdown",
   "metadata": {},
   "source": [
    "# 1. Đọc các bản ghi đã đánh nhãn #"
   ]
  },
  {
   "cell_type": "code",
   "execution_count": 10,
   "metadata": {},
   "outputs": [
    {
     "data": {
      "text/plain": [
       "631.2774780034724"
      ]
     },
     "execution_count": 10,
     "metadata": {},
     "output_type": "execute_result"
    }
   ],
   "source": [
    "import pandas as pd\n",
    "\n",
    "df = pd.read_csv(\"/mnt/wsl/PHYSICALDRIVE0p1/toan/ASR_Label/outputs_whisper/ASR.crawl_by_day.csv\")\n",
    "df.head(5)\n",
    "# df = df[df['time']>=3]\n",
    "total_time = df['time'].sum()/3600\n",
    "total_time"
   ]
  },
  {
   "cell_type": "code",
   "execution_count": 16,
   "metadata": {},
   "outputs": [
    {
     "name": "stdout",
     "output_type": "stream",
     "text": [
      "bac:  211.00169215277776\n",
      "trung:  31.30665387152778\n",
      "nam:  387.8643656249999\n"
     ]
    }
   ],
   "source": [
    "print('bac: ',df[df['location']=='bac']['time'].sum()/3600)\n",
    "print('trung: ', df[df['location']=='trung']['time'].sum()/3600)\n",
    "print('nam: ', df[df['location']=='nam']['time'].sum()/3600)"
   ]
  },
  {
   "cell_type": "markdown",
   "metadata": {},
   "source": [
    "# 2. Lọc các bản ghi do người đánh nhãn #"
   ]
  },
  {
   "cell_type": "code",
   "execution_count": 12,
   "metadata": {},
   "outputs": [],
   "source": [
    "# df_humman_labeled = df[(df['labeled'] == True) & (~df['humman'].isna()) & (df['humman'] != 'openAI/whisper') & (df['time'] >= 2)]\n",
    "df_humman_labeled = df[(df['labeled'] == True)]\n",
    "# df_humman_labeled.head()"
   ]
  },
  {
   "cell_type": "code",
   "execution_count": null,
   "metadata": {},
   "outputs": [],
   "source": [
    "import os\n",
    "\n",
    "count = 0\n",
    "def fix_path_file(path_file):\n",
    "    try: \n",
    "        global count\n",
    "        pre_path_1 = '/mnt/wsl/PHYSICALDRIVE0p1/toan/ASR_Label'\n",
    "        pre_path_2 = '/mnt/wsl/PHYSICALDRIVE0p1/toan/ASR_Label/audios'\n",
    "        if 'audios' not in path_file:\n",
    "            path_file = os.path.join(pre_path_2,path_file)\n",
    "        elif pre_path_1 not in path_file:\n",
    "            path_file = os.path.join(pre_path_1,path_file)\n",
    "        assert os.path.exists(path_file) == True , print(path_file)\n",
    "        return path_file\n",
    "    except:\n",
    "        count+=1\n",
    "        pass\n",
    "\n",
    "df_humman_labeled['path'] = df_humman_labeled['path'].apply(fix_path_file)\n",
    "print(count)"
   ]
  },
  {
   "cell_type": "markdown",
   "metadata": {},
   "source": [
    "## Tổng thời gian mà người đánh nhãn ##"
   ]
  },
  {
   "cell_type": "code",
   "execution_count": 13,
   "metadata": {},
   "outputs": [
    {
     "data": {
      "text/plain": [
       "85.56277487847223"
      ]
     },
     "execution_count": 13,
     "metadata": {},
     "output_type": "execute_result"
    }
   ],
   "source": [
    "total_time = df_humman_labeled['time'].sum()/3600\n",
    "total_time"
   ]
  },
  {
   "cell_type": "markdown",
   "metadata": {},
   "source": [
    "## Chia các bản ghi theo group by Loction ##"
   ]
  },
  {
   "cell_type": "code",
   "execution_count": 14,
   "metadata": {},
   "outputs": [
    {
     "name": "stdout",
     "output_type": "stream",
     "text": [
      "total_number_files:  96597  total_time:  85.56277487847223\n",
      "total_number_files_location_bac: 38874  total_time_bac:  34.77117329861111\n",
      "total_number_files_location_trung:  1886  total_time_trung:  1.3917309895833332\n",
      "total_number_files_location_nam:  55837  total_time_nam:  49.39987059027778\n"
     ]
    }
   ],
   "source": [
    "df_humman_labeled_location_bac = df_humman_labeled[df_humman_labeled['location']=='bac']\n",
    "df_humman_labeled_location_trung = df_humman_labeled[df_humman_labeled['location']=='trung']\n",
    "df_humman_labeled_location_nam = df_humman_labeled[df_humman_labeled['location']=='nam']\n",
    "\n",
    "total_time_humman_labeled = df_humman_labeled['time'].sum()/3600\n",
    "total_time_humman_labeled_location_bac = df_humman_labeled_location_bac['time'].sum()/3600\n",
    "total_time_humman_labeled_location_trung = df_humman_labeled_location_trung['time'].sum()/3600\n",
    "total_time_humman_labeled_location_nam = df_humman_labeled_location_nam['time'].sum()/3600\n",
    "\n",
    "num_sample_humman_labeled = len(df_humman_labeled)\n",
    "num_sample_humman_labeled_location_bac = len(df_humman_labeled_location_bac)\n",
    "num_sample_humman_labeled_location_trung = len(df_humman_labeled_location_trung)\n",
    "num_sample_humman_labeled_location_nam = len(df_humman_labeled_location_nam)\n",
    "\n",
    "print(\"total_number_files: \", num_sample_humman_labeled,' total_time: ', total_time_humman_labeled)\n",
    "print('total_number_files_location_bac:', num_sample_humman_labeled_location_bac, ' total_time_bac: ', total_time_humman_labeled_location_bac)\n",
    "print('total_number_files_location_trung: ', num_sample_humman_labeled_location_trung, ' total_time_trung: ', total_time_humman_labeled_location_trung)\n",
    "print('total_number_files_location_nam: ', num_sample_humman_labeled_location_nam, ' total_time_nam: ', total_time_humman_labeled_location_nam)"
   ]
  }
 ],
 "metadata": {
  "kernelspec": {
   "display_name": "base",
   "language": "python",
   "name": "python3"
  },
  "language_info": {
   "codemirror_mode": {
    "name": "ipython",
    "version": 3
   },
   "file_extension": ".py",
   "mimetype": "text/x-python",
   "name": "python",
   "nbconvert_exporter": "python",
   "pygments_lexer": "ipython3",
   "version": "3.10.13"
  }
 },
 "nbformat": 4,
 "nbformat_minor": 2
}
